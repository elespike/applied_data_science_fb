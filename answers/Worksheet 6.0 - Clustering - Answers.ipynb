{
 "cells": [
  {
   "cell_type": "markdown",
   "metadata": {},
   "source": [
    "<img src=\"../img/logo_white_bkg_small.png\" align=\"left\" />\n",
    "\n",
    "# Worksheet 6.0 Clustering - Answers\n",
    "\n",
    "This worksheet covers concepts relating to Unsupervised Learning.  It should take no more than 20-30 minutes to complete.  Please raise your hand if you get stuck.  \n",
    "\n",
    "There are many ways to accomplish the tasks that you are presented with, however you will find that by using the techniques covered in class, the exercises should be relatively simple. \n",
    "\n",
    "## Import the Libraries\n",
    "For this exercise, we will be using:\n",
    "* Pandas (http://pandas.pydata.org/pandas-docs/stable/)\n",
    "* Numpy (https://docs.scipy.org/doc/numpy/reference/)\n",
    "* Matplotlib (http://matplotlib.org/api/pyplot_api.html)\n"
   ]
  },
  {
   "cell_type": "code",
   "execution_count": 1,
   "metadata": {
    "ExecuteTime": {
     "end_time": "2019-08-06T18:30:08.968097Z",
     "start_time": "2019-08-06T18:30:08.126312Z"
    },
    "run_control": {
     "frozen": false,
     "read_only": false
    }
   },
   "outputs": [],
   "source": [
    "import pandas as pd\n",
    "import numpy as np\n",
    "from sklearn.cluster import KMeans, MiniBatchKMeans, DBSCAN\n",
    "from sklearn.preprocessing import StandardScaler\n",
    "from yellowbrick.cluster import KElbowVisualizer, SilhouetteVisualizer\n",
    "import pandas as pd\n",
    "import matplotlib.pyplot as plt\n",
    "from matplotlib import style\n",
    "from scipy.spatial.distance import cdist\n",
    "style.use(\"ggplot\")\n",
    "%matplotlib inline"
   ]
  },
  {
   "cell_type": "markdown",
   "metadata": {},
   "source": [
    "# K-Means Clustering\n",
    "In this example notebook, you will see how to implement K-Means Clustering in Python using Scikit-Learn and Pandas. \n",
    "Adapted from https://pythonprogramming.net/flat-clustering-machine-learning-python-scikit-learn/\n",
    "\n",
    "## Step 1:  Get Data:\n",
    "The first step is to prepare or generate the data.  In this dataset, the observations only have two features, but K-Means can be used with any number of features.  Since this is an unsupervised example, it is not necessary to have a \"target\" column."
   ]
  },
  {
   "cell_type": "code",
   "execution_count": 2,
   "metadata": {
    "ExecuteTime": {
     "end_time": "2019-08-06T18:30:08.985187Z",
     "start_time": "2019-08-06T18:30:08.978906Z"
    },
    "run_control": {
     "frozen": false,
     "read_only": false
    }
   },
   "outputs": [
    {
     "name": "stdout",
     "output_type": "stream",
     "text": [
      "     x     y\n",
      "0  1.0   2.0\n",
      "1  5.0   8.0\n",
      "2  1.5   1.8\n",
      "3  8.0   8.0\n",
      "4  1.0   0.6\n",
      "5  9.0  11.0\n"
     ]
    }
   ],
   "source": [
    "data = pd.DataFrame([[1, 2],\n",
    "              [5, 8],\n",
    "              [1.5, 1.8],\n",
    "              [8, 8],\n",
    "              [1, 0.6],\n",
    "              [9, 11]], columns=['x','y'])\n",
    "print( data )"
   ]
  },
  {
   "cell_type": "markdown",
   "metadata": {},
   "source": [
    "## Step 2:  Build the Model:\n",
    "Much like the supervised models, you first create the model then call the `.fit()` method using your data source.  The model is now populated with both your centroids and labels.  These can be accessed via the `.cluster_centers_` and `labels_` properties respectively.\n",
    "\n",
    "You can view the complete documentation here: http://scikit-learn.org/stable/modules/generated/sklearn.cluster.KMeans.html\n",
    "\n",
    "K-Means also has a `.predict()` method which can be used to predict the label for an observation."
   ]
  },
  {
   "cell_type": "code",
   "execution_count": 3,
   "metadata": {
    "ExecuteTime": {
     "end_time": "2019-08-06T18:30:09.734764Z",
     "start_time": "2019-08-06T18:30:09.717118Z"
    },
    "run_control": {
     "frozen": false,
     "read_only": false
    }
   },
   "outputs": [
    {
     "name": "stdout",
     "output_type": "stream",
     "text": [
      "[[7.33333333 9.        ]\n",
      " [1.16666667 1.46666667]]\n",
      "[1 0 1 0 1 0]\n"
     ]
    }
   ],
   "source": [
    "kmeans = KMeans(n_clusters=2).fit(data)\n",
    "\n",
    "centroids = kmeans.cluster_centers_\n",
    "labels = kmeans.labels_\n",
    "\n",
    "print(centroids)\n",
    "print(labels)"
   ]
  },
  {
   "cell_type": "code",
   "execution_count": 4,
   "metadata": {
    "ExecuteTime": {
     "end_time": "2019-08-06T18:30:10.183180Z",
     "start_time": "2019-08-06T18:30:10.176948Z"
    },
    "run_control": {
     "frozen": false,
     "read_only": false
    }
   },
   "outputs": [
    {
     "name": "stdout",
     "output_type": "stream",
     "text": [
      "   0  1\n",
      "0  4  2\n"
     ]
    }
   ],
   "source": [
    "test = pd.DataFrame([[4,2]])\n",
    "\n",
    "kmeans.predict(test)\n",
    "print(test)"
   ]
  },
  {
   "cell_type": "markdown",
   "metadata": {},
   "source": [
    "# Visualizing the Clusters\n",
    "The code below visualizes the clusters.  "
   ]
  },
  {
   "cell_type": "code",
   "execution_count": 5,
   "metadata": {
    "ExecuteTime": {
     "end_time": "2019-08-06T18:30:11.562562Z",
     "start_time": "2019-08-06T18:30:11.420900Z"
    },
    "run_control": {
     "frozen": false,
     "read_only": false
    }
   },
   "outputs": [
    {
     "data": {
      "image/png": "[encoded data removed]",
      "text/plain": [
       "<Figure size 432x288 with 1 Axes>"
      ]
     },
     "metadata": {
      "needs_background": "light"
     },
     "output_type": "display_data"
    }
   ],
   "source": [
    "data['labels'] = labels\n",
    "\n",
    "#plt.plot(data, colors[data['labels'], markersize = 10)\n",
    "\n",
    "group1 = data[data['labels']==1].plot( kind='scatter', x='x', y='y',  s=100, color='DarkGreen', label=\"Group 1\" )\n",
    "group2 = data[data['labels']==0].plot( kind='scatter', x='x', y='y', s=100,color='Brown', ax=group1, label=\"Group 2\" )\n",
    "group1.legend(loc='upper center', bbox_to_anchor=(0.5, 1.05),\n",
    "          ncol=3, fancybox=True, shadow=True)\n",
    "plt.scatter(centroids[:, 0],centroids[:, 1], marker = \"x\", s=150, linewidths = 5, zorder = 10)\n",
    "\n",
    "plt.show()"
   ]
  },
  {
   "cell_type": "markdown",
   "metadata": {},
   "source": [
    "# Clustering with Real Data\n",
    "Now that you've tried K-means on some generated data, let's try it on some real data and see what we can produce. As before the first step is to read in the data into a DataFrame.  \n",
    "\n",
    "We will be using this data later, but the dataset consists of approximately 6000 domains--5000 of which were generated by various botnets and 1000 are from the Alexa 1 Million.  The columns are:\n",
    "\n",
    "* `dsrc`:  The source of the domain\n",
    "* `domain`:  The actual domain\n",
    "* `length`:  The length of the domain\n",
    "* `dicts`:  Percentage containing dictionary words\n",
    "* `entropy`:  The entropy of the domain\n",
    "* `numbers`:  The number of digits in the domain\n",
    "* `ngram`:  Different n-grams which appear in the domain (?)"
   ]
  },
  {
   "cell_type": "code",
   "execution_count": 6,
   "metadata": {
    "ExecuteTime": {
     "end_time": "2019-08-06T18:30:13.765029Z",
     "start_time": "2019-08-06T18:30:13.694389Z"
    },
    "run_control": {
     "frozen": false,
     "read_only": false
    }
   },
   "outputs": [
    {
     "data": {
      "text/html": [
       "<div>\n",
       "<style scoped>\n",
       "    .dataframe tbody tr th:only-of-type {\n",
       "        vertical-align: middle;\n",
       "    }\n",
       "\n",
       "    .dataframe tbody tr th {\n",
       "        vertical-align: top;\n",
       "    }\n",
       "\n",
       "    .dataframe thead th {\n",
       "        text-align: right;\n",
       "    }\n",
       "</style>\n",
       "<table border=\"1\" class=\"dataframe\">\n",
       "  <thead>\n",
       "    <tr style=\"text-align: right;\">\n",
       "      <th></th>\n",
       "      <th>dsrc</th>\n",
       "      <th>domain</th>\n",
       "      <th>length</th>\n",
       "      <th>dicts</th>\n",
       "      <th>entropy</th>\n",
       "      <th>numbers</th>\n",
       "      <th>ngram</th>\n",
       "    </tr>\n",
       "  </thead>\n",
       "  <tbody>\n",
       "    <tr>\n",
       "      <th>49124</th>\n",
       "      <td>alexa</td>\n",
       "      <td>dellenglish</td>\n",
       "      <td>11</td>\n",
       "      <td>1.000000</td>\n",
       "      <td>2.845351</td>\n",
       "      <td>0</td>\n",
       "      <td>17.201013</td>\n",
       "    </tr>\n",
       "    <tr>\n",
       "      <th>33744</th>\n",
       "      <td>nivdort</td>\n",
       "      <td>spendgives</td>\n",
       "      <td>10</td>\n",
       "      <td>1.000000</td>\n",
       "      <td>2.921928</td>\n",
       "      <td>0</td>\n",
       "      <td>8.330089</td>\n",
       "    </tr>\n",
       "    <tr>\n",
       "      <th>6425</th>\n",
       "      <td>cryptolocker</td>\n",
       "      <td>ojhpvpqoafcsgg</td>\n",
       "      <td>14</td>\n",
       "      <td>0.571429</td>\n",
       "      <td>3.378783</td>\n",
       "      <td>0</td>\n",
       "      <td>0.000000</td>\n",
       "    </tr>\n",
       "    <tr>\n",
       "      <th>19374</th>\n",
       "      <td>gameoverdga</td>\n",
       "      <td>1il2peh1bd6fia1l7ermfvv9maf</td>\n",
       "      <td>27</td>\n",
       "      <td>0.444444</td>\n",
       "      <td>3.958229</td>\n",
       "      <td>7</td>\n",
       "      <td>1.230449</td>\n",
       "    </tr>\n",
       "    <tr>\n",
       "      <th>8011</th>\n",
       "      <td>cryptolocker</td>\n",
       "      <td>eltsyfxlcgld</td>\n",
       "      <td>12</td>\n",
       "      <td>0.583333</td>\n",
       "      <td>3.188722</td>\n",
       "      <td>0</td>\n",
       "      <td>2.120574</td>\n",
       "    </tr>\n",
       "  </tbody>\n",
       "</table>\n",
       "</div>"
      ],
      "text/plain": [
       "               dsrc                       domain  length     dicts   entropy  \\\n",
       "49124         alexa                  dellenglish      11  1.000000  2.845351   \n",
       "33744       nivdort                   spendgives      10  1.000000  2.921928   \n",
       "6425   cryptolocker               ojhpvpqoafcsgg      14  0.571429  3.378783   \n",
       "19374   gameoverdga  1il2peh1bd6fia1l7ermfvv9maf      27  0.444444  3.958229   \n",
       "8011   cryptolocker                 eltsyfxlcgld      12  0.583333  3.188722   \n",
       "\n",
       "       numbers      ngram  \n",
       "49124        0  17.201013  \n",
       "33744        0   8.330089  \n",
       "6425         0   0.000000  \n",
       "19374        7   1.230449  \n",
       "8011         0   2.120574  "
      ]
     },
     "execution_count": 6,
     "metadata": {},
     "output_type": "execute_result"
    }
   ],
   "source": [
    "data = pd.read_csv('../data/dga-full.csv')\n",
    "data.sample(5)"
   ]
  },
  {
   "cell_type": "markdown",
   "metadata": {},
   "source": [
    "## Scaling the Data\n",
    "Since clustering relies on measuring distances between objects it is important that all data points be on the same scale.  There are various methods for doing this, which are beyond the scope of this class, however, for this example, we will use scikit-learn's `StandardScaler` to accomplish this.  (http://scikit-learn.org/stable/modules/generated/sklearn.preprocessing.StandardScaler.html)\n",
    "\n",
    "The StandardScaler transforms each column by:\n",
    "* Subtracting from the element in each row the mean for each feature (column) and then taking this value and\n",
    "* Dividing by that feature's (column's) standard deviation.\n",
    "\n",
    "Scikit-learn has a transformer interface which is very similar to the other scikit-learn interfaces.  The basic steps are:\n",
    "1.  Create the Scaler object\n",
    "2.  Using the feature matrix, call the `.fit()` method to \"train\" the Scaler\n",
    "3.  Use the `.transform()` method to scale the data.\n",
    "\n",
    "**NOTE**: When using a Scaler, it is important to train the scaler on your data, and use this trained scalers on any future predictions. "
   ]
  },
  {
   "cell_type": "code",
   "execution_count": 7,
   "metadata": {
    "ExecuteTime": {
     "end_time": "2019-08-06T18:30:17.072230Z",
     "start_time": "2019-08-06T18:30:17.069391Z"
    },
    "run_control": {
     "frozen": false,
     "read_only": false
    }
   },
   "outputs": [],
   "source": [
    "feature_columns = ['length', 'dicts','entropy','numbers','ngram']\n",
    "scaled_feature_columns = ['scaled_length', 'scaled_dicts','scaled_entropy','scaled_numbers','scaled_ngram']"
   ]
  },
  {
   "cell_type": "code",
   "execution_count": 8,
   "metadata": {
    "ExecuteTime": {
     "end_time": "2019-08-06T18:31:36.201078Z",
     "start_time": "2019-08-06T18:31:36.175359Z"
    },
    "run_control": {
     "frozen": false,
     "read_only": false
    }
   },
   "outputs": [],
   "source": [
    "#Step 1:  Create the scaler\n",
    "scaler = StandardScaler()\n",
    "\n",
    "#Steps 2 & 3:  Fit the scaler and transform this data\n",
    "scaled_df = scaler.fit_transform(data[feature_columns])\n",
    "\n",
    "#Put the scaled data into a dataframe\n",
    "scaled_df = pd.DataFrame(scaled_df, columns=scaled_feature_columns)"
   ]
  },
  {
   "cell_type": "markdown",
   "metadata": {},
   "source": [
    "Take a look at the data and you'll see that the data is now all scaled consistently. "
   ]
  },
  {
   "cell_type": "code",
   "execution_count": 9,
   "metadata": {
    "ExecuteTime": {
     "end_time": "2019-08-06T18:31:39.258422Z",
     "start_time": "2019-08-06T18:31:39.247070Z"
    },
    "run_control": {
     "frozen": false,
     "read_only": false
    },
    "scrolled": true
   },
   "outputs": [
    {
     "data": {
      "text/html": [
       "<div>\n",
       "<style scoped>\n",
       "    .dataframe tbody tr th:only-of-type {\n",
       "        vertical-align: middle;\n",
       "    }\n",
       "\n",
       "    .dataframe tbody tr th {\n",
       "        vertical-align: top;\n",
       "    }\n",
       "\n",
       "    .dataframe thead th {\n",
       "        text-align: right;\n",
       "    }\n",
       "</style>\n",
       "<table border=\"1\" class=\"dataframe\">\n",
       "  <thead>\n",
       "    <tr style=\"text-align: right;\">\n",
       "      <th></th>\n",
       "      <th>scaled_length</th>\n",
       "      <th>scaled_dicts</th>\n",
       "      <th>scaled_entropy</th>\n",
       "      <th>scaled_numbers</th>\n",
       "      <th>scaled_ngram</th>\n",
       "    </tr>\n",
       "  </thead>\n",
       "  <tbody>\n",
       "    <tr>\n",
       "      <th>6566</th>\n",
       "      <td>-0.277145</td>\n",
       "      <td>0.510298</td>\n",
       "      <td>0.274768</td>\n",
       "      <td>-0.498385</td>\n",
       "      <td>-0.666102</td>\n",
       "    </tr>\n",
       "    <tr>\n",
       "      <th>46941</th>\n",
       "      <td>-0.802191</td>\n",
       "      <td>1.144799</td>\n",
       "      <td>-0.492925</td>\n",
       "      <td>-0.498385</td>\n",
       "      <td>0.108178</td>\n",
       "    </tr>\n",
       "    <tr>\n",
       "      <th>27129</th>\n",
       "      <td>-0.145884</td>\n",
       "      <td>-1.015526</td>\n",
       "      <td>0.497107</td>\n",
       "      <td>-0.498385</td>\n",
       "      <td>-0.722434</td>\n",
       "    </tr>\n",
       "    <tr>\n",
       "      <th>34119</th>\n",
       "      <td>-0.802191</td>\n",
       "      <td>1.144799</td>\n",
       "      <td>-0.492925</td>\n",
       "      <td>-0.498385</td>\n",
       "      <td>0.323434</td>\n",
       "    </tr>\n",
       "    <tr>\n",
       "      <th>228</th>\n",
       "      <td>2.216822</td>\n",
       "      <td>-0.831408</td>\n",
       "      <td>0.318049</td>\n",
       "      <td>2.539670</td>\n",
       "      <td>-0.502349</td>\n",
       "    </tr>\n",
       "    <tr>\n",
       "      <th>6975</th>\n",
       "      <td>-0.408407</td>\n",
       "      <td>-0.917330</td>\n",
       "      <td>0.031342</td>\n",
       "      <td>-0.498385</td>\n",
       "      <td>-0.642722</td>\n",
       "    </tr>\n",
       "    <tr>\n",
       "      <th>51374</th>\n",
       "      <td>-0.408407</td>\n",
       "      <td>0.686548</td>\n",
       "      <td>0.318839</td>\n",
       "      <td>-0.498385</td>\n",
       "      <td>1.752659</td>\n",
       "    </tr>\n",
       "    <tr>\n",
       "      <th>47540</th>\n",
       "      <td>-1.064714</td>\n",
       "      <td>1.144799</td>\n",
       "      <td>-1.227875</td>\n",
       "      <td>-0.498385</td>\n",
       "      <td>0.249449</td>\n",
       "    </tr>\n",
       "    <tr>\n",
       "      <th>45394</th>\n",
       "      <td>0.510423</td>\n",
       "      <td>1.000088</td>\n",
       "      <td>0.091717</td>\n",
       "      <td>-0.498385</td>\n",
       "      <td>7.808199</td>\n",
       "    </tr>\n",
       "    <tr>\n",
       "      <th>12497</th>\n",
       "      <td>-0.014622</td>\n",
       "      <td>0.044997</td>\n",
       "      <td>0.384852</td>\n",
       "      <td>-0.498385</td>\n",
       "      <td>-0.306654</td>\n",
       "    </tr>\n",
       "  </tbody>\n",
       "</table>\n",
       "</div>"
      ],
      "text/plain": [
       "       scaled_length  scaled_dicts  scaled_entropy  scaled_numbers  \\\n",
       "6566       -0.277145      0.510298        0.274768       -0.498385   \n",
       "46941      -0.802191      1.144799       -0.492925       -0.498385   \n",
       "27129      -0.145884     -1.015526        0.497107       -0.498385   \n",
       "34119      -0.802191      1.144799       -0.492925       -0.498385   \n",
       "228         2.216822     -0.831408        0.318049        2.539670   \n",
       "6975       -0.408407     -0.917330        0.031342       -0.498385   \n",
       "51374      -0.408407      0.686548        0.318839       -0.498385   \n",
       "47540      -1.064714      1.144799       -1.227875       -0.498385   \n",
       "45394       0.510423      1.000088        0.091717       -0.498385   \n",
       "12497      -0.014622      0.044997        0.384852       -0.498385   \n",
       "\n",
       "       scaled_ngram  \n",
       "6566      -0.666102  \n",
       "46941      0.108178  \n",
       "27129     -0.722434  \n",
       "34119      0.323434  \n",
       "228       -0.502349  \n",
       "6975      -0.642722  \n",
       "51374      1.752659  \n",
       "47540      0.249449  \n",
       "45394      7.808199  \n",
       "12497     -0.306654  "
      ]
     },
     "execution_count": 9,
     "metadata": {},
     "output_type": "execute_result"
    }
   ],
   "source": [
    "scaled_df.sample(10)"
   ]
  },
  {
   "cell_type": "markdown",
   "metadata": {},
   "source": [
    "Finally for convenience, we're going to merge the scaled data with the non-scaled data.  "
   ]
  },
  {
   "cell_type": "code",
   "execution_count": 10,
   "metadata": {
    "ExecuteTime": {
     "end_time": "2019-08-06T18:32:12.492453Z",
     "start_time": "2019-08-06T18:32:12.483289Z"
    },
    "run_control": {
     "frozen": false,
     "read_only": false
    }
   },
   "outputs": [],
   "source": [
    "final_data = pd.merge( data, scaled_df, left_index=True, right_index=True)"
   ]
  },
  {
   "cell_type": "code",
   "execution_count": 11,
   "metadata": {
    "ExecuteTime": {
     "end_time": "2019-08-06T18:32:12.884976Z",
     "start_time": "2019-08-06T18:32:12.865221Z"
    },
    "run_control": {
     "frozen": false,
     "read_only": false
    }
   },
   "outputs": [
    {
     "data": {
      "text/html": [
       "<div>\n",
       "<style scoped>\n",
       "    .dataframe tbody tr th:only-of-type {\n",
       "        vertical-align: middle;\n",
       "    }\n",
       "\n",
       "    .dataframe tbody tr th {\n",
       "        vertical-align: top;\n",
       "    }\n",
       "\n",
       "    .dataframe thead th {\n",
       "        text-align: right;\n",
       "    }\n",
       "</style>\n",
       "<table border=\"1\" class=\"dataframe\">\n",
       "  <thead>\n",
       "    <tr style=\"text-align: right;\">\n",
       "      <th></th>\n",
       "      <th>dsrc</th>\n",
       "      <th>domain</th>\n",
       "      <th>length</th>\n",
       "      <th>dicts</th>\n",
       "      <th>entropy</th>\n",
       "      <th>numbers</th>\n",
       "      <th>ngram</th>\n",
       "      <th>scaled_length</th>\n",
       "      <th>scaled_dicts</th>\n",
       "      <th>scaled_entropy</th>\n",
       "      <th>scaled_numbers</th>\n",
       "      <th>scaled_ngram</th>\n",
       "    </tr>\n",
       "  </thead>\n",
       "  <tbody>\n",
       "    <tr>\n",
       "      <th>42481</th>\n",
       "      <td>alexa</td>\n",
       "      <td>pinterest</td>\n",
       "      <td>9</td>\n",
       "      <td>1.000000</td>\n",
       "      <td>2.725481</td>\n",
       "      <td>0</td>\n",
       "      <td>18.190337</td>\n",
       "      <td>-0.802191</td>\n",
       "      <td>1.144799</td>\n",
       "      <td>-0.876255</td>\n",
       "      <td>-0.498385</td>\n",
       "      <td>2.592281</td>\n",
       "    </tr>\n",
       "    <tr>\n",
       "      <th>3079</th>\n",
       "      <td>cryptolocker</td>\n",
       "      <td>cnpahqlhylggpyc</td>\n",
       "      <td>15</td>\n",
       "      <td>0.733333</td>\n",
       "      <td>3.106891</td>\n",
       "      <td>0</td>\n",
       "      <td>0.954243</td>\n",
       "      <td>-0.014622</td>\n",
       "      <td>0.411597</td>\n",
       "      <td>-0.218329</td>\n",
       "      <td>-0.498385</td>\n",
       "      <td>-0.633149</td>\n",
       "    </tr>\n",
       "    <tr>\n",
       "      <th>25103</th>\n",
       "      <td>necurs</td>\n",
       "      <td>pivkmhgajnwacasjewow</td>\n",
       "      <td>20</td>\n",
       "      <td>0.800000</td>\n",
       "      <td>3.746439</td>\n",
       "      <td>0</td>\n",
       "      <td>4.097327</td>\n",
       "      <td>0.641685</td>\n",
       "      <td>0.594898</td>\n",
       "      <td>0.884880</td>\n",
       "      <td>-0.498385</td>\n",
       "      <td>-0.044977</td>\n",
       "    </tr>\n",
       "    <tr>\n",
       "      <th>10401</th>\n",
       "      <td>cryptolocker</td>\n",
       "      <td>ayrpuneqdnxkypg</td>\n",
       "      <td>15</td>\n",
       "      <td>0.666667</td>\n",
       "      <td>3.506891</td>\n",
       "      <td>0</td>\n",
       "      <td>1.643453</td>\n",
       "      <td>-0.014622</td>\n",
       "      <td>0.228297</td>\n",
       "      <td>0.471663</td>\n",
       "      <td>-0.498385</td>\n",
       "      <td>-0.504176</td>\n",
       "    </tr>\n",
       "    <tr>\n",
       "      <th>23395</th>\n",
       "      <td>necurs</td>\n",
       "      <td>pfqstnkinn</td>\n",
       "      <td>10</td>\n",
       "      <td>0.800000</td>\n",
       "      <td>2.846439</td>\n",
       "      <td>0</td>\n",
       "      <td>4.116209</td>\n",
       "      <td>-0.670930</td>\n",
       "      <td>0.594898</td>\n",
       "      <td>-0.667603</td>\n",
       "      <td>-0.498385</td>\n",
       "      <td>-0.041443</td>\n",
       "    </tr>\n",
       "  </tbody>\n",
       "</table>\n",
       "</div>"
      ],
      "text/plain": [
       "               dsrc                domain  length     dicts   entropy  \\\n",
       "42481         alexa             pinterest       9  1.000000  2.725481   \n",
       "3079   cryptolocker       cnpahqlhylggpyc      15  0.733333  3.106891   \n",
       "25103        necurs  pivkmhgajnwacasjewow      20  0.800000  3.746439   \n",
       "10401  cryptolocker       ayrpuneqdnxkypg      15  0.666667  3.506891   \n",
       "23395        necurs            pfqstnkinn      10  0.800000  2.846439   \n",
       "\n",
       "       numbers      ngram  scaled_length  scaled_dicts  scaled_entropy  \\\n",
       "42481        0  18.190337      -0.802191      1.144799       -0.876255   \n",
       "3079         0   0.954243      -0.014622      0.411597       -0.218329   \n",
       "25103        0   4.097327       0.641685      0.594898        0.884880   \n",
       "10401        0   1.643453      -0.014622      0.228297        0.471663   \n",
       "23395        0   4.116209      -0.670930      0.594898       -0.667603   \n",
       "\n",
       "       scaled_numbers  scaled_ngram  \n",
       "42481       -0.498385      2.592281  \n",
       "3079        -0.498385     -0.633149  \n",
       "25103       -0.498385     -0.044977  \n",
       "10401       -0.498385     -0.504176  \n",
       "23395       -0.498385     -0.041443  "
      ]
     },
     "execution_count": 11,
     "metadata": {},
     "output_type": "execute_result"
    }
   ],
   "source": [
    "final_data.sample(5)"
   ]
  },
  {
   "cell_type": "markdown",
   "metadata": {},
   "source": [
    "### Your Turn!\n",
    "Now that we have data that is suitable (maybe) for clustering, in the section below, perform K-Means clustering on this data set.  Initially, start out with 2 clusters and assign the `cluster id` as a column in your DataFrame.\n",
    "\n",
    "Then do a `value_counts()` on the `dsrc` column for each cluster to see how the model divided the data.  Try various values for `k` to see how it performed.\n",
    "\n",
    "Remember to use the **scaled features** for your clustering.  "
   ]
  },
  {
   "cell_type": "code",
   "execution_count": 12,
   "metadata": {
    "ExecuteTime": {
     "end_time": "2019-08-06T18:33:02.687928Z",
     "start_time": "2019-08-06T18:33:02.477310Z"
    },
    "run_control": {
     "frozen": false,
     "read_only": false
    }
   },
   "outputs": [
    {
     "name": "stdout",
     "output_type": "stream",
     "text": [
      "[[-0.49760996  0.3716326  -0.3885456  -0.4893535   0.20109624]\n",
      " [ 1.56899145 -1.17177795  1.22510555  1.5429584  -0.63406745]]\n",
      "[1 1 1 ... 0 0 0]\n"
     ]
    }
   ],
   "source": [
    "## Your code here...\n",
    "\n",
    "kmeans = KMeans(n_clusters=2).fit(final_data[scaled_feature_columns])\n",
    "\n",
    "centroids = kmeans.cluster_centers_\n",
    "labels = kmeans.labels_\n",
    "\n",
    "print(centroids)\n",
    "print(labels)"
   ]
  },
  {
   "cell_type": "code",
   "execution_count": 13,
   "metadata": {
    "ExecuteTime": {
     "end_time": "2019-08-06T18:33:08.714955Z",
     "start_time": "2019-08-06T18:33:08.707147Z"
    },
    "run_control": {
     "frozen": false,
     "read_only": false
    }
   },
   "outputs": [
    {
     "data": {
      "text/plain": [
       "cryptolocker    10000\n",
       "alexa           10000\n",
       "necurs          10000\n",
       "gameoverdga     10000\n",
       "nivdort          9978\n",
       "bamital          2500\n",
       "Name: dsrc, dtype: int64"
      ]
     },
     "execution_count": 13,
     "metadata": {},
     "output_type": "execute_result"
    }
   ],
   "source": [
    "final_data['dsrc'].value_counts()"
   ]
  },
  {
   "cell_type": "code",
   "execution_count": 14,
   "metadata": {
    "ExecuteTime": {
     "end_time": "2019-08-06T18:33:25.545299Z",
     "start_time": "2019-08-06T18:33:25.542296Z"
    },
    "run_control": {
     "frozen": false,
     "read_only": false
    }
   },
   "outputs": [],
   "source": [
    "final_data['cluster_id'] = kmeans.labels_"
   ]
  },
  {
   "cell_type": "code",
   "execution_count": 15,
   "metadata": {
    "ExecuteTime": {
     "end_time": "2019-08-06T18:33:26.261754Z",
     "start_time": "2019-08-06T18:33:26.256087Z"
    },
    "run_control": {
     "frozen": false,
     "read_only": false
    }
   },
   "outputs": [
    {
     "data": {
      "text/plain": [
       "0    39842\n",
       "1    12636\n",
       "Name: cluster_id, dtype: int64"
      ]
     },
     "execution_count": 15,
     "metadata": {},
     "output_type": "execute_result"
    }
   ],
   "source": [
    "final_data['cluster_id'].value_counts()"
   ]
  },
  {
   "cell_type": "code",
   "execution_count": 17,
   "metadata": {
    "ExecuteTime": {
     "end_time": "2019-08-06T18:35:12.604855Z",
     "start_time": "2019-08-06T18:35:12.596045Z"
    },
    "run_control": {
     "frozen": false,
     "read_only": false
    }
   },
   "outputs": [
    {
     "data": {
      "text/plain": [
       "gameoverdga    9993\n",
       "bamital        2500\n",
       "necurs          140\n",
       "alexa             3\n",
       "Name: dsrc, dtype: int64"
      ]
     },
     "execution_count": 17,
     "metadata": {},
     "output_type": "execute_result"
    }
   ],
   "source": [
    "final_data[final_data['cluster_id'] == 1]['dsrc'].value_counts()"
   ]
  },
  {
   "cell_type": "code",
   "execution_count": 20,
   "metadata": {
    "ExecuteTime": {
     "end_time": "2019-08-06T18:35:59.175734Z",
     "start_time": "2019-08-06T18:35:59.166097Z"
    },
    "run_control": {
     "frozen": false,
     "read_only": false
    }
   },
   "outputs": [
    {
     "data": {
      "text/plain": [
       "9374      icbdcrrokgmvsd\n",
       "10135     rvkeyjviacytyc\n",
       "11005      uhlycgphxfvdh\n",
       "3674       hqfleiyiwtgsh\n",
       "8076     emxvpntturtedsu\n",
       "6513     iphgddvavcuhalw\n",
       "12169     hnlobtvfiqsvgt\n",
       "5810        ooqtxllvusvb\n",
       "8852        skmoegqexejn\n",
       "7592       jqvmcsnrtusla\n",
       "Name: domain, dtype: object"
      ]
     },
     "execution_count": 20,
     "metadata": {},
     "output_type": "execute_result"
    }
   ],
   "source": [
    "final_data[final_data['dsrc'] == \"cryptolocker\"]['domain'].sample(10)"
   ]
  },
  {
   "cell_type": "code",
   "execution_count": 21,
   "metadata": {
    "ExecuteTime": {
     "end_time": "2019-08-06T18:36:35.794972Z",
     "start_time": "2019-08-06T18:36:35.785166Z"
    },
    "run_control": {
     "frozen": false,
     "read_only": false
    }
   },
   "outputs": [
    {
     "data": {
      "text/plain": [
       "33808     spendnerve\n",
       "33189     spokefirst\n",
       "36929       pickhope\n",
       "34759       yardback\n",
       "32787       movehers\n",
       "33646    fairoctover\n",
       "34431      ariverain\n",
       "32782      signprove\n",
       "32601      quickhome\n",
       "41781     dreameight\n",
       "Name: domain, dtype: object"
      ]
     },
     "execution_count": 21,
     "metadata": {},
     "output_type": "execute_result"
    }
   ],
   "source": [
    "final_data[final_data['dsrc'] == \"nivdort\"]['domain'].sample(10)"
   ]
  },
  {
   "cell_type": "code",
   "execution_count": 25,
   "metadata": {
    "ExecuteTime": {
     "end_time": "2018-08-15T15:24:43.082633Z",
     "start_time": "2018-08-15T15:24:43.072157Z"
    },
    "run_control": {
     "frozen": false,
     "read_only": false
    }
   },
   "outputs": [
    {
     "data": {
      "text/plain": [
       "gameoverdga    9993\n",
       "bamital        2500\n",
       "necurs          140\n",
       "alexa             3\n",
       "Name: dsrc, dtype: int64"
      ]
     },
     "execution_count": 25,
     "metadata": {},
     "output_type": "execute_result"
    }
   ],
   "source": [
    "final_data[final_data['cluster_id'] == 0]['dsrc'].value_counts()"
   ]
  },
  {
   "cell_type": "code",
   "execution_count": 19,
   "metadata": {
    "run_control": {
     "frozen": false,
     "read_only": false
    }
   },
   "outputs": [
    {
     "data": {
      "text/html": [
       "<div>\n",
       "<style scoped>\n",
       "    .dataframe tbody tr th:only-of-type {\n",
       "        vertical-align: middle;\n",
       "    }\n",
       "\n",
       "    .dataframe tbody tr th {\n",
       "        vertical-align: top;\n",
       "    }\n",
       "\n",
       "    .dataframe thead th {\n",
       "        text-align: right;\n",
       "    }\n",
       "</style>\n",
       "<table border=\"1\" class=\"dataframe\">\n",
       "  <thead>\n",
       "    <tr style=\"text-align: right;\">\n",
       "      <th></th>\n",
       "      <th>dsrc</th>\n",
       "      <th>domain</th>\n",
       "      <th>length</th>\n",
       "      <th>dicts</th>\n",
       "      <th>entropy</th>\n",
       "      <th>numbers</th>\n",
       "      <th>ngram</th>\n",
       "      <th>scaled_length</th>\n",
       "      <th>scaled_dicts</th>\n",
       "      <th>scaled_entropy</th>\n",
       "      <th>scaled_numbers</th>\n",
       "      <th>scaled_ngram</th>\n",
       "      <th>cluster_id</th>\n",
       "    </tr>\n",
       "  </thead>\n",
       "  <tbody>\n",
       "    <tr>\n",
       "      <th>35290</th>\n",
       "      <td>nivdort</td>\n",
       "      <td>thenprice</td>\n",
       "      <td>9</td>\n",
       "      <td>1.000000</td>\n",
       "      <td>2.947703</td>\n",
       "      <td>0</td>\n",
       "      <td>12.197725</td>\n",
       "      <td>-0.802191</td>\n",
       "      <td>1.144799</td>\n",
       "      <td>-0.492925</td>\n",
       "      <td>-0.498385</td>\n",
       "      <td>1.470869</td>\n",
       "      <td>0</td>\n",
       "    </tr>\n",
       "    <tr>\n",
       "      <th>20935</th>\n",
       "      <td>gameoverdga</td>\n",
       "      <td>13gx13w1k5h5yb1ob7cq61cx9nuw</td>\n",
       "      <td>28</td>\n",
       "      <td>0.000000</td>\n",
       "      <td>3.964153</td>\n",
       "      <td>12</td>\n",
       "      <td>0.000000</td>\n",
       "      <td>1.691776</td>\n",
       "      <td>-1.604706</td>\n",
       "      <td>1.260433</td>\n",
       "      <td>1.780156</td>\n",
       "      <td>-0.811719</td>\n",
       "      <td>1</td>\n",
       "    </tr>\n",
       "    <tr>\n",
       "      <th>6331</th>\n",
       "      <td>cryptolocker</td>\n",
       "      <td>jdbeisnkcmyksu</td>\n",
       "      <td>14</td>\n",
       "      <td>0.857143</td>\n",
       "      <td>3.521641</td>\n",
       "      <td>0</td>\n",
       "      <td>0.778151</td>\n",
       "      <td>-0.145884</td>\n",
       "      <td>0.752012</td>\n",
       "      <td>0.497107</td>\n",
       "      <td>-0.498385</td>\n",
       "      <td>-0.666102</td>\n",
       "      <td>0</td>\n",
       "    </tr>\n",
       "    <tr>\n",
       "      <th>552</th>\n",
       "      <td>bamital</td>\n",
       "      <td>c1aa1b6d6592917836f221c8a2b12612</td>\n",
       "      <td>32</td>\n",
       "      <td>0.000000</td>\n",
       "      <td>3.382049</td>\n",
       "      <td>23</td>\n",
       "      <td>0.000000</td>\n",
       "      <td>2.216822</td>\n",
       "      <td>-1.604706</td>\n",
       "      <td>0.256313</td>\n",
       "      <td>3.868819</td>\n",
       "      <td>-0.811719</td>\n",
       "      <td>1</td>\n",
       "    </tr>\n",
       "    <tr>\n",
       "      <th>26289</th>\n",
       "      <td>necurs</td>\n",
       "      <td>metskmlxqshpktblk</td>\n",
       "      <td>17</td>\n",
       "      <td>0.941176</td>\n",
       "      <td>3.337175</td>\n",
       "      <td>0</td>\n",
       "      <td>2.498311</td>\n",
       "      <td>0.247900</td>\n",
       "      <td>0.983063</td>\n",
       "      <td>0.178907</td>\n",
       "      <td>-0.498385</td>\n",
       "      <td>-0.344204</td>\n",
       "      <td>0</td>\n",
       "    </tr>\n",
       "  </tbody>\n",
       "</table>\n",
       "</div>"
      ],
      "text/plain": [
       "               dsrc                            domain  length     dicts  \\\n",
       "35290       nivdort                         thenprice       9  1.000000   \n",
       "20935   gameoverdga      13gx13w1k5h5yb1ob7cq61cx9nuw      28  0.000000   \n",
       "6331   cryptolocker                    jdbeisnkcmyksu      14  0.857143   \n",
       "552         bamital  c1aa1b6d6592917836f221c8a2b12612      32  0.000000   \n",
       "26289        necurs                 metskmlxqshpktblk      17  0.941176   \n",
       "\n",
       "        entropy  numbers      ngram  scaled_length  scaled_dicts  \\\n",
       "35290  2.947703        0  12.197725      -0.802191      1.144799   \n",
       "20935  3.964153       12   0.000000       1.691776     -1.604706   \n",
       "6331   3.521641        0   0.778151      -0.145884      0.752012   \n",
       "552    3.382049       23   0.000000       2.216822     -1.604706   \n",
       "26289  3.337175        0   2.498311       0.247900      0.983063   \n",
       "\n",
       "       scaled_entropy  scaled_numbers  scaled_ngram  cluster_id  \n",
       "35290       -0.492925       -0.498385      1.470869           0  \n",
       "20935        1.260433        1.780156     -0.811719           1  \n",
       "6331         0.497107       -0.498385     -0.666102           0  \n",
       "552          0.256313        3.868819     -0.811719           1  \n",
       "26289        0.178907       -0.498385     -0.344204           0  "
      ]
     },
     "execution_count": 19,
     "metadata": {},
     "output_type": "execute_result"
    }
   ],
   "source": [
    "final_data.sample(5)"
   ]
  },
  {
   "cell_type": "markdown",
   "metadata": {},
   "source": [
    "## Food for thought:\n",
    "Now that you've done clustering with various numbers of clusters, it appears that the data acutally does break evenly into 2 clusters.  Take a look at the original data and see if you can come up with a reason why that is the case."
   ]
  },
  {
   "cell_type": "markdown",
   "metadata": {
    "collapsed": true
   },
   "source": [
    "## Visualizing Performance\n",
    "As we already know, it is difficult to measure the performance of clustering models since there usually is no known ground truth from which to evaluate your model.  However, there are two techniques which \n",
    "\n",
    "The K-Elbow Visualizer implements the “elbow” method of selecting the optimal number of clusters for K-means clustering. K-means is a simple unsupervised machine learning algorithm that groups data into a specified number (k) of clusters. Because the user must specify in advance what k to choose, the algorithm is somewhat naive – it assigns all members to k clusters even if that is not the right k for the dataset.\n",
    "\n",
    "The elbow method runs k-means clustering on the dataset for a range of values for k (say from 1-10) and then for each value of k computes an average score for all clusters. By default, the distortion_score is computed, the sum of square distances from each point to its assigned center. Other metrics can also be used such as the silhouette_score, the mean silhouette coefficient for all samples or the calinski_harabaz_score, which computes the ratio of dispersion between and within clusters.\n",
    "\n",
    "When these overall metrics for each model are plotted, it is possible to visually determine the best value for K. If the line chart looks like an arm, then the “elbow” (the point of inflection on the curve) is the best value of k. The “arm” can be either up or down, but if there is a strong inflection point, it is a good indication that the underlying model fits best at that point. (http://www.scikit-yb.org/en/latest/api/cluster/elbow.html)\n",
    "\n",
    "In python there is a module called `YellowBrick` which facilitates visualizing the K-Elbow score.  All of YellowBrick's visualizations follow essentually the same pattern:\n",
    "\n",
    "1.  Create the Visualizer Object\n",
    "2.  Call the `.fit()` method using the data\n",
    "3.  Call the `.poof()` method to render the visualization\n",
    "\n",
    "The snippet below demonstrates how to use the elbow method to visualize the clustering model's performance on this dataset.\n",
    "```python\n",
    "visualizer = KElbowVisualizer(KMeans(), k=(4,12))\n",
    "\n",
    "visualizer.fit( feature_matrix ) \n",
    "visualizer.poof()\n",
    "```\n",
    "\n",
    "### Your Turn!\n",
    "In the box below, create a visualization using the elbow method to see if there are any inflection points in the distortion score."
   ]
  },
  {
   "cell_type": "code",
   "execution_count": 22,
   "metadata": {
    "ExecuteTime": {
     "end_time": "2019-08-06T18:37:00.341546Z",
     "start_time": "2019-08-06T18:36:58.738699Z"
    },
    "run_control": {
     "frozen": false,
     "read_only": false
    }
   },
   "outputs": [
    {
     "name": "stderr",
     "output_type": "stream",
     "text": [
      "/anaconda3/lib/python3.7/site-packages/sklearn/utils/deprecation.py:85: DeprecationWarning: Function calinski_harabaz_score is deprecated; Function 'calinski_harabaz_score' has been renamed to 'calinski_harabasz_score' and will be removed in version 0.23.\n",
      "  warnings.warn(msg, category=DeprecationWarning)\n",
      "/anaconda3/lib/python3.7/site-packages/sklearn/utils/deprecation.py:85: DeprecationWarning: Function calinski_harabaz_score is deprecated; Function 'calinski_harabaz_score' has been renamed to 'calinski_harabasz_score' and will be removed in version 0.23.\n",
      "  warnings.warn(msg, category=DeprecationWarning)\n",
      "/anaconda3/lib/python3.7/site-packages/sklearn/utils/deprecation.py:85: DeprecationWarning: Function calinski_harabaz_score is deprecated; Function 'calinski_harabaz_score' has been renamed to 'calinski_harabasz_score' and will be removed in version 0.23.\n",
      "  warnings.warn(msg, category=DeprecationWarning)\n",
      "/anaconda3/lib/python3.7/site-packages/sklearn/utils/deprecation.py:85: DeprecationWarning: Function calinski_harabaz_score is deprecated; Function 'calinski_harabaz_score' has been renamed to 'calinski_harabasz_score' and will be removed in version 0.23.\n",
      "  warnings.warn(msg, category=DeprecationWarning)\n",
      "/anaconda3/lib/python3.7/site-packages/sklearn/utils/deprecation.py:85: DeprecationWarning: Function calinski_harabaz_score is deprecated; Function 'calinski_harabaz_score' has been renamed to 'calinski_harabasz_score' and will be removed in version 0.23.\n",
      "  warnings.warn(msg, category=DeprecationWarning)\n",
      "/anaconda3/lib/python3.7/site-packages/sklearn/utils/deprecation.py:85: DeprecationWarning: Function calinski_harabaz_score is deprecated; Function 'calinski_harabaz_score' has been renamed to 'calinski_harabasz_score' and will be removed in version 0.23.\n",
      "  warnings.warn(msg, category=DeprecationWarning)\n",
      "/anaconda3/lib/python3.7/site-packages/sklearn/utils/deprecation.py:85: DeprecationWarning: Function calinski_harabaz_score is deprecated; Function 'calinski_harabaz_score' has been renamed to 'calinski_harabasz_score' and will be removed in version 0.23.\n",
      "  warnings.warn(msg, category=DeprecationWarning)\n",
      "/anaconda3/lib/python3.7/site-packages/sklearn/utils/deprecation.py:85: DeprecationWarning: Function calinski_harabaz_score is deprecated; Function 'calinski_harabaz_score' has been renamed to 'calinski_harabasz_score' and will be removed in version 0.23.\n",
      "  warnings.warn(msg, category=DeprecationWarning)\n",
      "/anaconda3/lib/python3.7/site-packages/sklearn/utils/deprecation.py:85: DeprecationWarning: Function calinski_harabaz_score is deprecated; Function 'calinski_harabaz_score' has been renamed to 'calinski_harabasz_score' and will be removed in version 0.23.\n",
      "  warnings.warn(msg, category=DeprecationWarning)\n"
     ]
    },
    {
     "data": {
      "image/png": "[encoded data removed]",
      "text/plain": [
       "<Figure size 432x288 with 2 Axes>"
      ]
     },
     "metadata": {},
     "output_type": "display_data"
    }
   ],
   "source": [
    "# Your code here...\n",
    "visualizer = KElbowVisualizer( KMeans(), \n",
    "                              k=10,\n",
    "                              metric='calinski_harabaz')\n",
    "\n",
    "visualizer.fit(final_data[scaled_feature_columns].sample(10000))\n",
    "visualizer.poof()"
   ]
  },
  {
   "cell_type": "markdown",
   "metadata": {},
   "source": [
    "## Another Way to Visualize Clustering Performance\n",
    "The Silhouette Coefficient is used when the ground-truth about the dataset is unknown and computes the density of clusters computed by the model. The score is computed by averaging the silhouette coefficient for each sample, computed as the difference between the average intra-cluster distance and the mean nearest-cluster distance for each sample, normalized by the maximum value. This produces a score between 1 and -1, where 1 is highly dense clusters and -1 is completely incorrect clustering. (http://www.scikit-yb.org/en/latest/api/cluster/silhouette.html)\n",
    "\n",
    "\n",
    "### Your Turn!\n",
    "Using the YellowBrick `SilhouetteVisualizer`, try visualizing models with various values of `K`.\n",
    "\n",
    "**Note**:  This visualization is quite expensive, so I recommend performing this using a sample o your original data."
   ]
  },
  {
   "cell_type": "code",
   "execution_count": 23,
   "metadata": {
    "ExecuteTime": {
     "end_time": "2019-08-06T18:37:53.317752Z",
     "start_time": "2019-08-06T18:37:50.263960Z"
    },
    "run_control": {
     "frozen": false,
     "read_only": false
    }
   },
   "outputs": [
    {
     "data": {
      "image/png": "[encoded data removed]",
      "text/plain": [
       "<Figure size 432x288 with 1 Axes>"
      ]
     },
     "metadata": {
      "needs_background": "light"
     },
     "output_type": "display_data"
    }
   ],
   "source": [
    "# Your code here...\n",
    "visualizer = SilhouetteVisualizer( KMeans(n_clusters=2))\n",
    "\n",
    "visualizer.fit(final_data[scaled_feature_columns].sample(10000))\n",
    "visualizer.poof()"
   ]
  },
  {
   "cell_type": "markdown",
   "metadata": {
    "collapsed": true
   },
   "source": [
    "## DBSCAN\n",
    "Now that you've tried K-Means, let's try doing some clustering using DBSCAN (http://scikit-learn.org/stable/modules/generated/sklearn.cluster.DBSCAN.html).  Remember that the main tuning parameters for DBSCAN are:\n",
    "\n",
    "* **epsilon (eps)**:  The minimum distance between two samples \n",
    "* **min_samples**:  The minimum number of samples needed to form a neighborhood\n",
    "\n",
    "By default epsilon is 0.5 and the min_samples is 5. First, try DBSCAN with the default options.  If you use the `fit_predict()` function, you can save the results in a new column in your data.  \n",
    "\n",
    "How did this compare with K-Means?  Given that you actually know what the data really is, how did DBSCAN do in terms of identifing meaningful clusters?  Look at the `dsrc` column and do `value_counts()` for the various neighhborhoods.  What did you notice?\n",
    "\n",
    "Try again, but this time experiment with the values of epsilon and min_samples and see what DBSCAN comes up with. "
   ]
  },
  {
   "cell_type": "code",
   "execution_count": 24,
   "metadata": {
    "ExecuteTime": {
     "end_time": "2019-08-06T18:38:36.579248Z",
     "start_time": "2019-08-06T18:38:36.576756Z"
    },
    "run_control": {
     "frozen": false,
     "read_only": false
    }
   },
   "outputs": [],
   "source": [
    "dbscan = DBSCAN(min_samples=50)"
   ]
  },
  {
   "cell_type": "code",
   "execution_count": 25,
   "metadata": {
    "ExecuteTime": {
     "end_time": "2019-08-06T18:39:02.329475Z",
     "start_time": "2019-08-06T18:38:57.401128Z"
    },
    "run_control": {
     "frozen": false,
     "read_only": false
    }
   },
   "outputs": [],
   "source": [
    "final_data['dbs_default'] = dbscan.fit_predict(final_data[scaled_feature_columns])"
   ]
  },
  {
   "cell_type": "code",
   "execution_count": 26,
   "metadata": {
    "ExecuteTime": {
     "end_time": "2019-08-06T18:39:02.388519Z",
     "start_time": "2019-08-06T18:39:02.383657Z"
    },
    "run_control": {
     "frozen": false,
     "read_only": false
    }
   },
   "outputs": [
    {
     "data": {
      "text/plain": [
       " 1    39301\n",
       " 2     9973\n",
       " 0     2500\n",
       "-1      284\n",
       " 4      259\n",
       " 3      116\n",
       " 5       45\n",
       "Name: dbs_default, dtype: int64"
      ]
     },
     "execution_count": 26,
     "metadata": {},
     "output_type": "execute_result"
    }
   ],
   "source": [
    "final_data['dbs_default'].value_counts()"
   ]
  },
  {
   "cell_type": "code",
   "execution_count": 27,
   "metadata": {
    "ExecuteTime": {
     "end_time": "2019-08-06T18:39:28.356859Z",
     "start_time": "2019-08-06T18:39:28.349395Z"
    },
    "run_control": {
     "frozen": false,
     "read_only": false
    }
   },
   "outputs": [
    {
     "data": {
      "text/plain": [
       "bamital    2499\n",
       "alexa         1\n",
       "Name: dsrc, dtype: int64"
      ]
     },
     "execution_count": 27,
     "metadata": {},
     "output_type": "execute_result"
    }
   ],
   "source": [
    "final_data[final_data['dbs_default'] == 0 ]['dsrc'].value_counts()"
   ]
  },
  {
   "cell_type": "code",
   "execution_count": 35,
   "metadata": {
    "ExecuteTime": {
     "end_time": "2019-08-06T18:41:42.545179Z",
     "start_time": "2019-08-06T18:41:42.535321Z"
    }
   },
   "outputs": [
    {
     "data": {
      "text/plain": [
       "34582    takentuesday\n",
       "39483        milkmail\n",
       "36231        withcity\n",
       "32927        hillrain\n",
       "36094       ableguide\n",
       "Name: domain, dtype: object"
      ]
     },
     "execution_count": 35,
     "metadata": {},
     "output_type": "execute_result"
    }
   ],
   "source": [
    "final_data['domain'][final_data['dsrc'] == \"nivdort\"].sample(5)"
   ]
  },
  {
   "cell_type": "code",
   "execution_count": 27,
   "metadata": {
    "run_control": {
     "frozen": false,
     "read_only": false
    }
   },
   "outputs": [
    {
     "data": {
      "text/plain": [
       "gameoverdga    9973\n",
       "Name: dsrc, dtype: int64"
      ]
     },
     "execution_count": 27,
     "metadata": {},
     "output_type": "execute_result"
    }
   ],
   "source": [
    "final_data[final_data['dbs_default'] == 2 ]['dsrc'].value_counts()"
   ]
  },
  {
   "cell_type": "code",
   "execution_count": 28,
   "metadata": {},
   "outputs": [
    {
     "data": {
      "text/plain": [
       "cryptolocker    10000\n",
       "necurs           9990\n",
       "nivdort          9978\n",
       "alexa            9330\n",
       "gameoverdga         3\n",
       "Name: dsrc, dtype: int64"
      ]
     },
     "execution_count": 28,
     "metadata": {},
     "output_type": "execute_result"
    }
   ],
   "source": [
    "final_data[final_data['dbs_default'] == 1 ]['dsrc'].value_counts()"
   ]
  },
  {
   "cell_type": "code",
   "execution_count": 31,
   "metadata": {},
   "outputs": [
    {
     "data": {
      "text/plain": [
       "10967     mgmqhtslehota\n",
       "4435     ycqausfcajaqsm\n",
       "8478     apyhafmcaksnqb\n",
       "7008       draqvgjgdsii\n",
       "4963       ajxlkflypxya\n",
       "8327     elphrggumvljfv\n",
       "10223    jggbxapbtjofac\n",
       "5649      garwnpmbbubuk\n",
       "4046       slvxljjoqrsr\n",
       "2822       qnqvqsyadush\n",
       "Name: domain, dtype: object"
      ]
     },
     "execution_count": 31,
     "metadata": {},
     "output_type": "execute_result"
    }
   ],
   "source": [
    "final_data[final_data['dsrc'] == \"cryptolocker\"]['domain'].sample(10)"
   ]
  },
  {
   "cell_type": "code",
   "execution_count": 34,
   "metadata": {},
   "outputs": [
    {
     "data": {
      "text/plain": [
       "29866              dmqhfwgader\n",
       "31843                  vqhtcvk\n",
       "29109            duarwywaxylro\n",
       "29636     bgicolqwlyggsfylealt\n",
       "31538          ojqkvtdoyqaxcmj\n",
       "32025    jmcgykhmvymtcaoyidhse\n",
       "30522             yhsvrbcsnyxo\n",
       "22706           cdrqndsscjfmkx\n",
       "29997                  cpyjjbi\n",
       "24774            mijcxeswerycu\n",
       "Name: domain, dtype: object"
      ]
     },
     "execution_count": 34,
     "metadata": {},
     "output_type": "execute_result"
    }
   ],
   "source": [
    "final_data[final_data['dsrc'] == \"necurs\"]['domain'].sample(10)"
   ]
  },
  {
   "cell_type": "code",
   "execution_count": null,
   "metadata": {},
   "outputs": [],
   "source": []
  }
 ],
 "metadata": {
  "kernelspec": {
   "display_name": "Python 3",
   "language": "python",
   "name": "python3"
  },
  "language_info": {
   "codemirror_mode": {
    "name": "ipython",
    "version": 3
   },
   "file_extension": ".py",
   "mimetype": "text/x-python",
   "name": "python",
   "nbconvert_exporter": "python",
   "pygments_lexer": "ipython3",
   "version": "3.7.3"
  },
  "toc": {
   "base_numbering": 1,
   "nav_menu": {},
   "number_sections": false,
   "sideBar": false,
   "skip_h1_title": false,
   "title_cell": "Table of Contents",
   "title_sidebar": "Contents",
   "toc_cell": false,
   "toc_position": {},
   "toc_section_display": false,
   "toc_window_display": false
  },
  "varInspector": {
   "cols": {
    "lenName": 16,
    "lenType": 16,
    "lenVar": 40
   },
   "kernels_config": {
    "python": {
     "delete_cmd_postfix": "",
     "delete_cmd_prefix": "del ",
     "library": "var_list.py",
     "varRefreshCmd": "print(var_dic_list())"
    },
    "r": {
     "delete_cmd_postfix": ") ",
     "delete_cmd_prefix": "rm(",
     "library": "var_list.r",
     "varRefreshCmd": "cat(var_dic_list()) "
    }
   },
   "types_to_exclude": [
    "module",
    "function",
    "builtin_function_or_method",
    "instance",
    "_Feature"
   ],
   "window_display": false
  }
 },
 "nbformat": 4,
 "nbformat_minor": 2
}
